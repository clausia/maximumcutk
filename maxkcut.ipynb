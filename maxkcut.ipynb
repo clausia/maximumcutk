{
 "cells": [
  {
   "cell_type": "markdown",
   "id": "23b463c5",
   "metadata": {},
   "source": [
    "<div align=\"center\" style=\"color: #2471A3; font-size: 30px; font-weight: bold;\">Maximum k cut</div>"
   ]
  },
  {
   "cell_type": "markdown",
   "id": "809b95db",
   "metadata": {},
   "source": [
    "<div align=\"right\" style=\"font-size: 15px; font-weight: normal;\">Claudia Zendejas Morales</div>"
   ]
  },
  {
   "cell_type": "markdown",
   "id": "43a92979",
   "metadata": {},
   "source": [
    "<a href=\"https://opensource.org/licenses/Apache-2.0\"><img align=\"right\" src=\"data:image/png;base64,iVBORw0KGgoAAAANSUhEUgAAAHgAAAAUCAMAAABxjAnBAAACXlBMVEVVVVVWVlZXV1dYWFhZWVlaWlpgYGBhYWFiYmJkZGRlZWVmZmZnZ2doaGhqampubm5vb29wcHBycnJ1dXV3d3d4eHh6enp9fX1+fn6AgICBgYGCgoKIiIiJiYmKioqOjo6QkJCRkZGSkpKTk5OVlZWXygCXygGYygKYywOZywSZywWZywaaywebzAqczAyczQ2dzQ6ezhKfzhOgzxahzxii0Bui0Byj0B6k0B+k0SCl0SKl0SOm0SSn0ien0iio0ymo0yqpqamp0yup0yyr1DCr1DGt1TWt1Tat1Teu1jiv1jqw1z2w1z6x1z+x10Cy2EGy2EKy2EO12Um22ky32k632k+4uLi421G521O6urq63FW63Fa63Fe73Fi83Vq83Vu93Vy93l6+3l++3mDB32bB4GjG4nPG4nTH43bIyMjKysrK5H7L5YDM5YLN5YTN5oXQ54zT6ZPU1NTU6ZXV1dXV6ZfW1tbX19fX6pzX653Y2NjY66Da2tra7KTa7KXb7afc7ajd3d3d7qze3t7e7q3e7q7e7q/f39/f77Dg4ODg77Th4eHi4uLj4+Pk5OTk8bzk8b7l5eXl8r/l8sDm5ubn5+fn88Pn88To6Ojo88bo88fp6enp9Mjp9Mnp9Mrq9Mvq9Mzr9c3r9c/s9dHt9tLt9tPt9tTu7u7u9tXv99fv99jw8PDw99nw99rw+Nvx8fHx+Nzx+N3y8vLy+N7y+N/y+eDz+eH09PT0+eP0+eT0+uX1+ub2+uj2+un2++r3++v3++z4++34++74/O/5/PD6/PL7/fT7/fb8/vj///9NRvkXAAAAAWJLR0TJar1nXAAAAitJREFUSMdjYCANqFILMIxaPGoxrS0+ycx2koNoi61P1uEw7ySGSO2OPdOdIUy7mTtm2mJYzMBMvI9z6o7qE2txsp5q+hwIc2W0asx8TIuBSLpxdo+UZHlzjRhQJLKsT4GBOXLK7CIWBqgYzOINbhOSgJZUTFgRrao6adu6CaaqqoELNi8LUD2ZvWVvrKqq/7SFczzgdrtvA1NWR9RU1Q+bYbGYZ7UQA59MIzuDcC9QRJRBcDmDXBUDgzgzF1QMarHXBtWUfqDFDqrm+w1ULVVV8wpUTfc4q1q4qZ6M0/bdrWqywFDVZQXc4spCMOWzFkis9cBisVImkKW4vKSkZAYjw0kGBsaTTAKbIlU44WJQi0vzVY1OmIGDdZGnalTr3HX1qvEtsKDWOKkRt3vy5MkbnY4dO2YPFEtbqAexeCXIYm9cFitlQUUgopzKkZu4YWIQi7UP7tq69XgG2OJVLkFrnFVjG1Tjm+BxfFIzoQMpkrNnGkIYNgfUVNUOW2OxmG+9AAOnzHZJBlZ5mMUi/AxMU0R4oWIQi8NBaSV8qepJA9XgjVqJbaqquQ2qFvtsVY1doBabHfJT1YkGW6BV3aQLokNDgb4NV41YgzVxyXZO7JaSqpk6IwxmsUT7lG5HBgaoGMTi1lSQgftdT07bOs9VVbdrzuSuBlXVkMWrlgRALVYNmLNuQzHEmyd37dy500+1tlZV1WnW5llOVChATg5UyXVytKwetRgfAAAQgF5r4k2ujwAAAABJRU5ErkJggg==\"></a>"
   ]
  },
  {
   "cell_type": "markdown",
   "id": "579d1a50",
   "metadata": {},
   "source": [
    "# Contents\n",
    "\n",
    "1. [Introduction](#intro)\n",
    "    1. [Optimization Problem](#intro.optp)\n",
    "    2. [Maximum Cut Problem](#intro.maxcut)\n",
    "    3. [Maximum K Cut Problem](#intro.maxkcut)\n",
    "    4. [Graph Coloring Problem](#intro.graphcol)\n",
    "2. [Max-k-cut - Quantum Implementation with Qiskit](#quantum)\n",
    "    1. [Max-k-cut as Graph Coloring](#quantum.mkc.gc)\n",
    "    2. [Graph Coloring as a QUBO Problem](#quantum.gc.qubo)\n",
    "    3. [Qiskit Optimization Module](#quantum.module.opt)\n",
    "    4. [Converters for Quadratic Programs](#quantum.converters)\n",
    "    5. [Max-cut with Qiskit](#quantum.mcqiskit)\n",
    "    6. [Max-k-cut implementation](#quantum.mkcimpl)\n",
    "    7. [Max-k-cut Example](#quantum.mkcimpl.ex)\n",
    "        1. [Solve with `NumPyMinimumEigensolver`](#quantum.solving.classic)\n",
    "        2. [Solve with `QAOA`](#quantum.solving.qaoa)\n",
    "        3. [Solve with `VQE`](#quantum.solving.vqe)\n",
    "        4. [Bigger Example](#quantum.solving.bigger)\n",
    "3. [Applications](#apps)\n",
    "4. [Conclusions](#conclusions)\n",
    "5. [References](#refs)\n",
    "\n",
    "$ \\newcommand{\\bra}[1]{\\langle #1|} $\n",
    "$ \\newcommand{\\ket}[1]{|#1\\rangle} $\n",
    "$ \\newcommand{\\braket}[2]{\\langle #1|#2\\rangle} $"
   ]
  },
  {
   "cell_type": "markdown",
   "id": "772f8ffe",
   "metadata": {},
   "source": [
    "<a id=\"intro\"></a>\n",
    "# Introduction"
   ]
  },
  {
   "cell_type": "markdown",
   "id": "5dba64f4",
   "metadata": {},
   "source": [
    "As humans, we constantly seek solutions, and our reasoning has led us to go further, and seek not only a solution, but an optimal solution, because we have learned that it is convenient for us to optimize the resources at our disposal.\n",
    "\n",
    "That is why, over time, we have developed theories to help us find those optimal solutions to complex problems such as combinatorial problems, which can become so complex that it is not enough to pose the problem with paper and pencil, but we must use the computational resources that we have today.\n",
    "\n",
    "Many problems in quantitative fields such as finance and engineering are optimization problems. Optimization problems lie at the core of complex decision-making and definition of strategies.\n",
    "\n",
    "Optimization (or combinatorial optimization) means searching for an optimal solution in a finite or countably infinite set of potential solutions. Optimality is defined with respect to some criterion function, which is to be minimized or maximized. This is typically called cost function or objective function.\n",
    "\n",
    "#### Typical optimization problems\n",
    "\n",
    "- **Minimization**: cost, distance, length of a traversal, weight, processing time, material, energy consumption, number of objects\n",
    "\n",
    "- **Maximization**: profit, value, output, return, yield, utility, efficiency, capacity, number of objects\n"
   ]
  },
  {
   "cell_type": "markdown",
   "id": "3b6840f3",
   "metadata": {},
   "source": [
    "<a id=\"intro.optp\"></a>\n",
    "## Optimization Problem"
   ]
  },
  {
   "cell_type": "markdown",
   "id": "600cb6e6",
   "metadata": {},
   "source": [
    "In mathematics, computer science, and economics, an optimization problem is the problem of finding the best solution from all feasible solutions.\n",
    "\n",
    "The standard form of an optimization problem is\n",
    "\n",
    "\\begin{align*}\n",
    "\\texttt{minimize} \\;\\;\\; &f(x)\\\\\n",
    "\\texttt{subject to} \\;\\;\\; &g_i(x)\\leq 0, \\;\\;\\;\\; i = 1,\\cdots ,m\\\\\n",
    "&h_j(x)=0, \\;\\;\\;\\; j = 1,\\cdots ,p\n",
    "\\end{align*}\n",
    "\n",
    "Where,\n",
    "\n",
    "- $f:\\mathbb{R}^n\\rightarrow\\mathbb{R}$ is the **objective function** (or cost function) to be minimized over the vector $x$ of $n$ variables\n",
    "- $g_i(x)\\leq 0$ are called inequality constraints\n",
    "- $h_j(x)= 0$ are called equality constraints\n",
    "- $m\\geq 0$ and $p\\geq 0$\n",
    "\n",
    "If $m=p=0$ the problem is an unrestricted optimization. By convention, the standard form defines a *minimization problem*. A *maximization problem* can be addressed by multiplying the objective function by $-1$."
   ]
  },
  {
   "cell_type": "markdown",
   "id": "3a68351b",
   "metadata": {},
   "source": [
    "<a id=\"intro.maxcut\"></a>\n",
    "## Maximum Cut Problem"
   ]
  },
  {
   "cell_type": "markdown",
   "id": "0f396885",
   "metadata": {},
   "source": [
    "Given an undirected graph $G=(V, E)$, a cut in $G$ is a subset $S\\subseteq V$. Let $\\overline{S}=V\\setminus S$, and let $E(S, \\overline{S})$ denote the set of edges with one vertex in $S$ and one vertex in $\\overline{S}$. We will use the term \"cut\" to refer variously to the partition $(S, \\overline{S})$ of the vertices, and also the set of edges $E(S, \\overline{S})$ crossing between $S$ and $\\overline{S}$. The Max-Cut problem is to find the cut $S$ that maximizes $|E(S, \\overline{S})|$. In the weighted version of Max-Cut, we are also given an edge weight function $w: \\; E\\rightarrow\\mathbb{R}$, and the problem is to find a cut with maximum weight."
   ]
  },
  {
   "cell_type": "markdown",
   "id": "ecb80580",
   "metadata": {},
   "source": [
    "![maxcut2.png](data:image/png;base64,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)"
   ]
  },
  {
   "cell_type": "markdown",
   "id": "8917bf57",
   "metadata": {},
   "source": [
    "### Weighted Max-cut"
   ]
  },
  {
   "cell_type": "markdown",
   "id": "8a227dba",
   "metadata": {},
   "source": [
    "Consider an $n$-node undirected graph $G = (V, E)$ where $|V| = n$ with edge weights $w_{ij}>0$, $w_{ij}=w_{ji}$, for $(i, j)\\in E$. A cut is defined as a partition of the original set $V$ into two subsets. The cost function to be optimized is in this case the sum of weights of edges connecting points in the two different subsets, *crossing* the cut. By assigning $x_i=0$ or $x_i=1$ to each node $i$, one tries to maximize the global profit function (summation run over indices $0,1,...n-1$).\n",
    "\n",
    "$$\\tilde{C}(\\textbf{x}) = \\sum_{i,j} w_{ij} x_i (1-x_j)$$"
   ]
  },
  {
   "cell_type": "markdown",
   "id": "bbff2789",
   "metadata": {},
   "source": [
    "<a id=\"intro.maxkcut\"></a>\n",
    "## Maximum K Cut Problem"
   ]
  },
  {
   "cell_type": "markdown",
   "id": "44b4878d",
   "metadata": {},
   "source": [
    "In the Max-k-Cut problem, we are also given an undirected graph, $G=(V, E)$, with non-negative edge weights. Our objective is to divide the vertices into at most $k$ disjoint sets, for some given positive integer $k$, to maximize the weight of the edges whose endpoints lie in different sets. When $k=2$, this problem is known simply as the Max-cut problem."
   ]
  },
  {
   "cell_type": "markdown",
   "id": "1b0d4221",
   "metadata": {},
   "source": [
    "We assume without loss of generality that the graph $G = (V,E)$ is a complete graph because missing edges can be added with a corresponding weight of zero. Let $k \\geq 2$ and define the matrix variable $X = (X_{ij})$, $i, j \\in V$, as:"
   ]
  },
  {
   "cell_type": "markdown",
   "id": "2152f501",
   "metadata": {},
   "source": [
    "$$X_{ij}=\\begin{cases}\n",
    "      -\\frac{1}{k-1} & \\text{if vertices $i$ and $j$ are in different partitions of the k-cut of $G$,} \\\\\n",
    "      \\; \\; \\; \\; 1 & \\text{otherwise}\n",
    "    \\end{cases}$$"
   ]
  },
  {
   "cell_type": "markdown",
   "id": "8656acab",
   "metadata": {},
   "source": [
    "The max-k-cut problem on $G$ can be expressed as:\n",
    "\n",
    "\\begin{align*}\n",
    "\\texttt{maximize} \\;\\;\\; &\\sum_{i,j \\, \\in \\, V \\; , \\; i<j} \\; w_{ij} \\, \\frac{\\left(k-1\\right) \\, \\left(1-X_{ij}\\right)}{k}\\\\\\\\\n",
    "\\texttt{subject to} \\;\\;\\; &X_{ii}=1, \\; \\; \\; \\; \\; \\; \\; \\; \\; \\; \\; \\; \\; \\; \\; \\; \\; \\; \\; \\; \\; \\; \\; \\; \\; \\; \\forall \\; i \\; \\in \\; V,\\\\\n",
    "&X_{ij} \\ \\in \\ \\left\\{-\\frac{1}{k-1}, \\; 1\\right\\}, \\;\\;\\;\\; \\forall \\; i,j \\; \\in \\; V, \\; i<j,\\\\\n",
    "&X\\geq 0\n",
    "\\end{align*}"
   ]
  },
  {
   "cell_type": "markdown",
   "id": "a6e63172",
   "metadata": {},
   "source": [
    "<a id=\"intro.graphcol\"></a>\n",
    "## Graph Coloring Problem"
   ]
  },
  {
   "cell_type": "markdown",
   "id": "ae35a624",
   "metadata": {},
   "source": [
    "Graph coloring is a way of labeling the vertices of a graph with colors such that no two adjacent vertices are assigned the same color. A coloring using at most $k$ different labels is called a $k$-coloring, and the smallest number of colors needed\n",
    "to color a graph $G$ is called its chromatic number."
   ]
  },
  {
   "cell_type": "markdown",
   "id": "c67e74b6",
   "metadata": {},
   "source": [
    "Let $G = (V, E)$ be a simple undirected graph with the vertex set $V$ and the edge set $E$. Let $|V| = n$, and let $k$ be a given integer such that $1 \\leq k \\leq n − 1$. We say that $G$ is $k$-colorable if one can assign to each vertex in $G$ one of the $k$ colors such that adjacent vertices do not have the same color."
   ]
  },
  {
   "cell_type": "markdown",
   "id": "f968eb3e",
   "metadata": {},
   "source": [
    "The convention of using colors originates from coloring the countries of a map, where each face is literally colored. This was generalized to coloring the faces of a graph embedded in the plane. By planar duality it became coloring the vertices, and in this form it generalizes to all graphs. In mathematical and computer representations, it is typical to use the first few positive or non-negative integers as the \"colors\". In general, one can use any finite set as the \"color set\". The nature of the coloring problem depends on the number of colors but not on what they are."
   ]
  },
  {
   "cell_type": "markdown",
   "id": "4a5bedb0",
   "metadata": {},
   "source": [
    "<a id=\"quantum\"></a>\n",
    "# Max-k-cut - Quantum Implementation with Qiskit"
   ]
  },
  {
   "cell_type": "markdown",
   "id": "5549cc84",
   "metadata": {},
   "source": [
    "<a id=\"quantum.mkc.gc\"></a>\n",
    "## Max-k-cut as Graph Coloring"
   ]
  },
  {
   "cell_type": "markdown",
   "id": "91f4ba5a",
   "metadata": {},
   "source": [
    "The graph coloring problem for $k$-colorable subgraphs can be seen as a special case of the max-k-cut problem. In the max-k-cut problem, the goal is to assign $k$ colors to the vertices of a given graph to maximize the weight of the edges (edges where both endpoints have the same color). Note that a $k$-colorable graph allows a $k$-cut where there are no ‘defect edges’ (with endpoints of the same color) [[E. de Klerk, et. al.](https://doi.org/10.1023/B:JOCO.0000038911.67280.3f)]."
   ]
  },
  {
   "cell_type": "markdown",
   "id": "f6b37ebf",
   "metadata": {},
   "source": [
    "This is why I take the work called \"*Quantum Optimization for the Graph Coloring Problem with Space-Efficient Embedding*\" [[Zsolt Tabi, et. al](https://doi.org/10.1109/QCE49297.2020.00018)] to implement the solution to the **max-k-cut** problem using the **Qiskit** library. The approach is to follow the guidelines of the already existing `Maxcut` class."
   ]
  },
  {
   "cell_type": "markdown",
   "id": "6e363594",
   "metadata": {},
   "source": [
    " <a id=\"quantum.gc.qubo\"></a>\n",
    "## Graph Coloring as a QUBO Problem"
   ]
  },
  {
   "cell_type": "markdown",
   "id": "4b1b1e3e",
   "metadata": {},
   "source": [
    "[QUBO](https://en.wikipedia.org/wiki/Quadratic_unconstrained_binary_optimization) is a standard model in optimization theory that is frequently used in quantum computing as it can serve as an input for algorithms like the Quantum Approximate Optimization Algorithm ([QAOA](https://en.wikipedia.org/wiki/Quantum_optimization_algorithms)) or Quantum Annealing ([QA](https://en.wikipedia.org/wiki/Quantum_annealing)). The general form of QUBO problems is the minimization of $f:\\{0, 1\\}^N\\rightarrow\\mathbb{R}$, the pseudo-Boolean objective function of the following form:\n",
    "\n",
    "\\begin{align*}\n",
    "\\texttt{minimize} \\;\\;\\; f(x)&=x^TQx=\\sum_{i,j=1}^{N} \\, Q_{ij}x_ix_j\\\\\\\\\n",
    "x^*&=\\underset{x\\in\\{0,1\\}^N}{\\texttt{arg min}} \\; f(x),\n",
    "\\end{align*}\n",
    "\n",
    "\n",
    "where $Q$ is a real symmetric matrix, $f$ is often called the cost function and $x^∗$ is referred to as a solution bit string or a global minimizer of $f$. Such a QUBO problem is equivalent to finding the groundstate energy and configurations of the following $N$-qubit Ising Hamiltonian:\n",
    "\n",
    "$$H=\\sum_{i,j=1}^{N} \\, Q_{i,j}\\left(\\mathbb{1}-Z_i\\right)\\left(\\mathbb{1}-Z_j\\right)$$\n",
    "\n",
    "where $Z_k$ denotes the operator that acts as the Pauli-$Z$ gate on the $k$th qubit and as identity on the other qubits.\n",
    "\n",
    "The coloring problem, similarly to several other families of NP-complete problems, can be naturally formulated as a QUBO problem. The QUBO description of the $k$-coloring problem for a graph with $n$ nodes uses $N = n\\cdot k$ number of bits. The bits $x_{v,i}$ in this formulation have double labels $(v, i)$, where $v \\in {1, . . . , n}$ labels the vertices and $i \\in {1, . . . , k}$ labels the colors. One uses a **one-hot encoding**, i.e., if vertex $v$ is assigned the color $j$ we set $x_{v,j} = 1$ and for all $i \\neq j$ we set $x_{v,i} = 0$. To ensure that the solution of the QUBO will satisfy such a one-hot encoding requirement, one employs a penalty term for each vertex $v$ of the form $\\left(1 − \\sum_{i=1}^{k}x_{v,i}\\right)^2$. Next, for all pairs $(v, w)$ of neighboring sites, one penalizes the same-color assignments by the term $\\sum_{i=1}^{k}x_{v,i}x_{w,i}$. Thus, in total, the cost function for the $k$-coloring of a graph with n nodes and adjacency matrix $A$ can be written as follows [[Zsolt Tabi, et. al](https://doi.org/10.1109/QCE49297.2020.00018)]:\n",
    "\n",
    "$$f(x)=C\\sum_{v=1}^{n}\\left(1-\\sum_{i=1}^{k}x_{v,i}\\right)^2+D\\sum_{v,w=1}^{n}\\sum_{i=1}^{k}A_{vw}x_{v,i}x_{w,i}  \\tag{1}$$\n",
    "\n",
    "\n",
    "where $C$ and $D$ can be arbitrary positive numbers. The corresponding Ising model is thus:\n",
    "\n",
    "$$H=C\\sum_{v=1}^{n}\\left(2\\mathbb{1}-\\sum_{i=1}^{k}\\left(\\mathbb{1}-Z_{v,i}\\right)\\right)^2+D\\sum_{v,w=1}^{n}\\sum_{i=1}^{k}A_{vw}\\left(\\mathbb{1}-Z_{v,i}\\right)\\left(\\mathbb{1}-Z_{w,i}\\right)$$"
   ]
  },
  {
   "cell_type": "markdown",
   "id": "6cf5767e",
   "metadata": {},
   "source": [
    "The coloring problem can be naturally formulated as a QUBO problem. The QUBO description of the $k$-coloring problem for a graph with $n$ nodes uses $N = n\\cdot k$ number of bits. The bits $x_{v,i}$ in this formulation have double labels $(v, i)$, where $v \\in {1, . . . , n}$ labels the vertices and $i \\in {1, . . . , k}$ labels the colors. One uses a **one-hot encoding**, i.e., if vertex $v$ is assigned the color $j$ we set $x_{v,j} = 1$ and for all $i \\neq j$ we set $x_{v,i} = 0$. To ensure that the solution of the QUBO will satisfy such a one-hot encoding requirement, one employs a penalty term for each vertex $v$ of the form $\\left(1 − \\sum_{i=1}^{k}x_{v,i}\\right)^2$. Next, for all pairs $(v, w)$ of neighboring sites, one penalizes the same-color assignments by the term $\\sum_{i=1}^{k}x_{v,i}x_{w,i}$. Thus, in total, the cost function for the $k$-coloring of a graph with n nodes and adjacency matrix $A$ can be written as follows [[Zsolt Tabi, et. al](https://doi.org/10.1109/QCE49297.2020.00018)]:\n",
    "\n",
    "$$f(x)=C\\sum_{v=1}^{n}\\left(1-\\sum_{i=1}^{k}x_{v,i}\\right)^2+D\\sum_{v,w=1}^{n}\\sum_{i=1}^{k}A_{vw}x_{v,i}x_{w,i}  \\tag{1}$$\n",
    "\n",
    "\n",
    "where $C$ and $D$ can be arbitrary positive numbers. The corresponding Ising model is thus:\n",
    "\n",
    "$$H=C\\sum_{v=1}^{n}\\left(2\\mathbb{1}-\\sum_{i=1}^{k}\\left(\\mathbb{1}-Z_{v,i}\\right)\\right)^2+D\\sum_{v,w=1}^{n}\\sum_{i=1}^{k}A_{vw}\\left(\\mathbb{1}-Z_{v,i}\\right)\\left(\\mathbb{1}-Z_{w,i}\\right)$$"
   ]
  },
  {
   "cell_type": "markdown",
   "id": "3e6d8aad",
   "metadata": {},
   "source": [
    "<a id=\"quantum.module.opt\"></a>\n",
    "## Qiskit Optimization Module"
   ]
  },
  {
   "cell_type": "markdown",
   "id": "6dafc0e8",
   "metadata": {},
   "source": [
    "The [Qiskit optimization module](https://qiskit.org/documentation/optimization/) covers the whole range from high-level modeling of optimization problems, with automatic conversion of problems to different required representations, to a set of easy-to-use quantum optimization algorithms that are ready to run on classic simulators as well as real quantum devices via Qiskit.\n",
    "\n",
    "This module enables easy and efficient modeling of optimization problems using [docplex](https://developer.ibm.com/docloud/documentation/optimization-modeling/modeling-for-python/). A uniform interface, as well as automatic conversion between different problem representations, allows users to solve problems using a large set of algorithms.\n",
    "\n",
    "Qiskit's optimization module supports Quadratically Constrained Quadratic Programs (for simplicity we call them _Quadratic Programs_) with binary, integer and continuous variables, as well as equality and inequality constraints. This class of optimization problems has a large number of relevant applications, while being efficiently representable by matrices and vectors. This module covers some very interesting classes, from Convex Continuous Quadratic Programs, which can be efficiently solved by classical optimization algorithms, to Quadratic Unconstrained Binary Optimization (**QUBO**) problems, which cover many NP-complete problems, that is, classically intractable."
   ]
  },
  {
   "cell_type": "markdown",
   "id": "23cba001",
   "metadata": {},
   "source": [
    "<a id=\"quantum.converters\"></a>\n",
    "## Converters for Quadratic Programs"
   ]
  },
  {
   "cell_type": "markdown",
   "id": "85522eed",
   "metadata": {},
   "source": [
    "Optimization problems in the Qiskit optimization module are represented by the `QuadraticProgram` class, which is a powerful generic representation of optimization problems. In general, the optimization algorithms are defined for a certain formulation of a quadratic program and we need to convert our problem to the correct type.\n",
    "\n",
    "For example, Qiskit provides several optimization algorithms that can handle quadratic unconstrained binary optimization (QUBO) problems. These map to Hamiltonians of type [Ising](https://en.wikipedia.org/wiki/Ising_model). For this optimization, algorithms commonly known as VQE or QAOA can be used as the underlying routine.\n",
    "\n",
    "For more details see the tutorial [Converters for Quadratic Programs](https://qiskit.org/documentation/optimization/tutorials/02_converters_for_quadratic_programs.html)."
   ]
  },
  {
   "cell_type": "markdown",
   "id": "3542c73d",
   "metadata": {},
   "source": [
    "<a id=\"quantum.mcqiskit\"></a>\n",
    "## Max-cut with Qiskit"
   ]
  },
  {
   "cell_type": "markdown",
   "id": "38790d08",
   "metadata": {},
   "source": [
    "Qiskit implements multiple application classes, among them the `Maxcut` class helps to solve max-cut type problems, an example of its use is shown below."
   ]
  },
  {
   "cell_type": "code",
   "execution_count": 27,
   "id": "cde53f39",
   "metadata": {},
   "outputs": [],
   "source": [
    "import matplotlib.pyplot as plt\n",
    "import matplotlib.axes as axes\n",
    "import numpy as np\n",
    "import networkx as nx\n",
    "\n",
    "from qiskit import Aer\n",
    "from qiskit.tools.visualization import plot_histogram\n",
    "from qiskit.circuit.library import TwoLocal\n",
    "from qiskit_optimization.applications import Maxcut\n",
    "from qiskit.algorithms import VQE, NumPyMinimumEigensolver, QAOA\n",
    "from qiskit.algorithms.optimizers import SPSA\n",
    "from qiskit.utils import algorithm_globals, QuantumInstance\n",
    "from qiskit_optimization.algorithms import MinimumEigenOptimizer\n",
    "from qiskit_optimization.problems import QuadraticProgram"
   ]
  },
  {
   "cell_type": "code",
   "execution_count": 2,
   "id": "8c066503",
   "metadata": {},
   "outputs": [
    {
     "data": {
      "image/png": "[encoded data removed]",
      "text/plain": [
       "<Figure size 432x288 with 1 Axes>"
      ]
     },
     "metadata": {},
     "output_type": "display_data"
    }
   ],
   "source": [
    "# Example from tutorial: https://qiskit.org/documentation/optimization/tutorials/06_examples_max_cut_and_tsp.html\n",
    "\n",
    "# Generating a graph of 4 nodes\n",
    "\n",
    "n = 4  # Number of nodes in graph\n",
    "G = nx.Graph()\n",
    "G.add_nodes_from(np.arange(0, n, 1))\n",
    "elist = [(0, 1, 1.0), (0, 2, 1.0), (0, 3, 1.0), (1, 2, 1.0), (2, 3, 1.0)]\n",
    "\n",
    "# tuple is (i,j,weight) where (i,j) is the edge\n",
    "G.add_weighted_edges_from(elist)\n",
    "\n",
    "colors = [\"r\" for node in G.nodes()]\n",
    "pos = nx.spring_layout(G)\n",
    "\n",
    "\n",
    "def draw_graph(G, colors, pos):\n",
    "    default_axes = plt.axes(frameon=True)\n",
    "    nx.draw_networkx(G, node_color=colors, node_size=600, alpha=0.8, ax=default_axes, pos=pos)\n",
    "    edge_labels = nx.get_edge_attributes(G, \"weight\")\n",
    "    nx.draw_networkx_edge_labels(G, pos=pos, edge_labels=edge_labels)\n",
    "\n",
    "\n",
    "draw_graph(G, colors, pos)"
   ]
  },
  {
   "cell_type": "code",
   "execution_count": 3,
   "id": "3a1938d4",
   "metadata": {},
   "outputs": [
    {
     "name": "stdout",
     "output_type": "stream",
     "text": [
      "[[0. 1. 1. 1.]\n",
      " [1. 0. 1. 0.]\n",
      " [1. 1. 0. 1.]\n",
      " [1. 0. 1. 0.]]\n"
     ]
    }
   ],
   "source": [
    "# Computing the weight matrix from the random graph\n",
    "w = np.zeros([n, n])\n",
    "for i in range(n):\n",
    "    for j in range(n):\n",
    "        temp = G.get_edge_data(i, j, default=0)\n",
    "        if temp != 0:\n",
    "            w[i, j] = temp[\"weight\"]\n",
    "print(w)"
   ]
  },
  {
   "cell_type": "code",
   "execution_count": 4,
   "id": "63eccfc4",
   "metadata": {},
   "outputs": [
    {
     "name": "stdout",
     "output_type": "stream",
     "text": [
      "\\ This file has been generated by DOcplex\n",
      "\\ ENCODING=ISO-8859-1\n",
      "\\Problem name: Max-cut\n",
      "\n",
      "Maximize\n",
      " obj: 3 x_0 + 2 x_1 + 3 x_2 + 2 x_3 + [ - 4 x_0*x_1 - 4 x_0*x_2 - 4 x_0*x_3\n",
      "      - 4 x_1*x_2 - 4 x_2*x_3 ]/2\n",
      "Subject To\n",
      "\n",
      "Bounds\n",
      " 0 <= x_0 <= 1\n",
      " 0 <= x_1 <= 1\n",
      " 0 <= x_2 <= 1\n",
      " 0 <= x_3 <= 1\n",
      "\n",
      "Binaries\n",
      " x_0 x_1 x_2 x_3\n",
      "End\n",
      "\n"
     ]
    }
   ],
   "source": [
    "# Mapping to the Ising problem\n",
    "\n",
    "max_cut = Maxcut(w)                                 # <-- Maxcut class\n",
    "qp = max_cut.to_quadratic_program()\n",
    "print(qp.export_as_lp_string())"
   ]
  },
  {
   "cell_type": "code",
   "execution_count": 5,
   "id": "0f4476b5",
   "metadata": {},
   "outputs": [
    {
     "name": "stdout",
     "output_type": "stream",
     "text": [
      "Offset: -2.5\n",
      "Ising Hamiltonian:\n",
      "0.5 * IIZZ\n",
      "+ 0.5 * IZIZ\n",
      "+ 0.5 * IZZI\n",
      "+ 0.5 * ZIIZ\n",
      "+ 0.5 * ZZII\n"
     ]
    }
   ],
   "source": [
    "qubitOp, offset = qp.to_ising()\n",
    "print(\"Offset:\", offset)\n",
    "print(\"Ising Hamiltonian:\")\n",
    "print(str(qubitOp))"
   ]
  },
  {
   "cell_type": "code",
   "execution_count": 6,
   "id": "dde2426a",
   "metadata": {},
   "outputs": [
    {
     "name": "stdout",
     "output_type": "stream",
     "text": [
      "optimal function value: 4.0\n",
      "optimal value: [1. 0. 1. 0.]\n",
      "status: SUCCESS\n"
     ]
    }
   ],
   "source": [
    "# solving Quadratic Program using exact classical eigensolver (NumPyMinimumEigensolver)\n",
    "\n",
    "exact = MinimumEigenOptimizer(NumPyMinimumEigensolver())\n",
    "result = exact.solve(qp)\n",
    "print(result)"
   ]
  },
  {
   "cell_type": "code",
   "execution_count": 7,
   "id": "85c2d327",
   "metadata": {},
   "outputs": [
    {
     "name": "stdout",
     "output_type": "stream",
     "text": [
      "energy: -1.5\n",
      "max-cut objective: -4.0\n",
      "solution: [1 0 1 0]\n",
      "solution objective: 4.0\n"
     ]
    },
    {
     "data": {
      "image/png": "[encoded data removed]",
      "text/plain": [
       "<Figure size 432x288 with 1 Axes>"
      ]
     },
     "metadata": {},
     "output_type": "display_data"
    }
   ],
   "source": [
    "# Making the Hamiltonian in its full form and getting the lowest eigenvalue and eigenvector\n",
    "\n",
    "ee = NumPyMinimumEigensolver()\n",
    "result = ee.compute_minimum_eigenvalue(qubitOp)\n",
    "\n",
    "x = max_cut.sample_most_likely(result.eigenstate)\n",
    "print(\"energy:\", result.eigenvalue.real)\n",
    "print(\"max-cut objective:\", result.eigenvalue.real + offset)\n",
    "print(\"solution:\", x)\n",
    "print(\"solution objective:\", qp.objective.evaluate(x))\n",
    "\n",
    "colors = [\"r\" if x[i] == 0 else \"c\" for i in range(n)]\n",
    "draw_graph(G, colors, pos)"
   ]
  },
  {
   "cell_type": "code",
   "execution_count": 8,
   "id": "12cb46c5",
   "metadata": {},
   "outputs": [],
   "source": [
    "# Running it on quantum computer\n",
    "\n",
    "algorithm_globals.random_seed = 123\n",
    "seed = 10598\n",
    "backend = Aer.get_backend(\"aer_simulator_statevector\")\n",
    "quantum_instance = QuantumInstance(backend, seed_simulator=seed, seed_transpiler=seed)"
   ]
  },
  {
   "cell_type": "code",
   "execution_count": 9,
   "id": "cabf7cb9",
   "metadata": {},
   "outputs": [
    {
     "name": "stdout",
     "output_type": "stream",
     "text": [
      "energy: -1.4996861455587291\n",
      "time: 6.202404737472534\n",
      "max-cut objective: -3.999686145558729\n",
      "solution: [0. 1. 0. 1.]\n",
      "solution objective: 4.0\n"
     ]
    },
    {
     "data": {
      "image/png": "[encoded data removed]",
      "text/plain": [
       "<Figure size 432x288 with 1 Axes>"
      ]
     },
     "metadata": {},
     "output_type": "display_data"
    }
   ],
   "source": [
    "# construct VQE\n",
    "\n",
    "spsa = SPSA(maxiter=300)\n",
    "ry = TwoLocal(qubitOp.num_qubits, \"ry\", \"cz\", reps=5, entanglement=\"linear\")\n",
    "vqe = VQE(ry, optimizer=spsa, quantum_instance=quantum_instance)\n",
    "\n",
    "\n",
    "# run VQE\n",
    "\n",
    "result = vqe.compute_minimum_eigenvalue(qubitOp)\n",
    "\n",
    "\n",
    "# print results\n",
    "\n",
    "x = max_cut.sample_most_likely(result.eigenstate)\n",
    "print(\"energy:\", result.eigenvalue.real)\n",
    "print(\"time:\", result.optimizer_time)\n",
    "print(\"max-cut objective:\", result.eigenvalue.real + offset)\n",
    "print(\"solution:\", x)\n",
    "print(\"solution objective:\", qp.objective.evaluate(x))\n",
    "\n",
    "\n",
    "# plot results\n",
    "\n",
    "colors = [\"r\" if x[i] == 0 else \"c\" for i in range(n)]\n",
    "draw_graph(G, colors, pos)"
   ]
  },
  {
   "cell_type": "code",
   "execution_count": 10,
   "id": "39072762",
   "metadata": {},
   "outputs": [
    {
     "name": "stdout",
     "output_type": "stream",
     "text": [
      "optimal function value: 4.0\n",
      "optimal value: [1. 0. 1. 0.]\n",
      "status: SUCCESS\n"
     ]
    },
    {
     "data": {
      "image/png": "[encoded data removed]",
      "text/plain": [
       "<Figure size 432x288 with 1 Axes>"
      ]
     },
     "metadata": {},
     "output_type": "display_data"
    }
   ],
   "source": [
    "# create minimum eigen optimizer based on VQE\n",
    "vqe_optimizer = MinimumEigenOptimizer(vqe)\n",
    "\n",
    "# solve quadratic program\n",
    "result = vqe_optimizer.solve(qp)                           # <-- ask to solve the problem\n",
    "print(result)                                              # get same result as with the classical approach\n",
    "\n",
    "colors = [\"r\" if result.x[i] == 0 else \"c\" for i in range(n)]\n",
    "draw_graph(G, colors, pos)"
   ]
  },
  {
   "cell_type": "markdown",
   "id": "d4c4d0f1",
   "metadata": {},
   "source": [
    "<a id=\"quantum.mkcimpl\"></a>\n",
    "## Max-k-cut implementation"
   ]
  },
  {
   "cell_type": "markdown",
   "id": "7610687d",
   "metadata": {},
   "source": [
    "Below is the code that implements the **`Maxkcut` class**, which is the central part of this work.\n",
    "\n",
    "As an example, I follow the same ways that are in the `Maxcut` class, and to define the cost function I used what is shown in the article from [Zsolt Tabi, et. al](https://doi.org/10.1109/QCE49297.2020.00018)."
   ]
  },
  {
   "cell_type": "code",
   "execution_count": 13,
   "id": "e2268860",
   "metadata": {},
   "outputs": [],
   "source": [
    "\"\"\"An application class for the Max-k-cut\"\"\"\n",
    "\n",
    "from typing import List, Dict, Tuple, Optional, Union\n",
    "import networkx as nx\n",
    "import numpy as np\n",
    "from docplex.mp.model import Model\n",
    "\n",
    "from qiskit_optimization.algorithms import OptimizationResult\n",
    "from qiskit_optimization.problems.quadratic_program import QuadraticProgram\n",
    "from qiskit_optimization.translators import from_docplex_mp\n",
    "from qiskit_optimization.applications import GraphOptimizationApplication\n",
    "\n",
    "from matplotlib.pyplot import cm\n",
    "from matplotlib.colors import to_rgba\n",
    "\n",
    "\n",
    "class Maxkcut(GraphOptimizationApplication):\n",
    "    \"\"\"Optimization application for the \"max-k-cut\" [1] problem based \n",
    "       on a NetworkX graph.\n",
    "\n",
    "    References:\n",
    "        [1]: Z. Tabi et al.,\n",
    "             \"Quantum Optimization for the Graph Coloring Problem with\n",
    "             Space-Efficient Embedding\"\n",
    "             2020 IEEE International Conference on Quantum Computing \n",
    "             and Engineering (QCE),\n",
    "             2020, pp. 56-62, doi: 10.1109/QCE49297.2020.00018.,\n",
    "             https://ieeexplore.ieee.org/document/9259934\n",
    "    \"\"\"\n",
    "\n",
    "    def __init__(\n",
    "        self,\n",
    "        graph: Union[nx.Graph, np.ndarray, List],\n",
    "        k: int,\n",
    "        colors: Optional[Union[List[str], List[List[int]]]] = None,\n",
    "    ) -> None:\n",
    "        \"\"\"\n",
    "        Args:\n",
    "            graph: A graph representing a problem. It can be specified directly as a\n",
    "                `NetworkX <https://networkx.org/>`_ graph,\n",
    "                or as an array or list format suitable to build out a NetworkX graph.\n",
    "            k: The number of colors\n",
    "            colors: List of strings or list of colors in rgba lists to be assigned to each\n",
    "                resulting subset, there must be as many colors as the number k\n",
    "        \"\"\"\n",
    "        super().__init__(graph=graph)\n",
    "        self._subsets_num = k\n",
    "        self._colors = colors if colors and len(colors) >= k else None\n",
    "\n",
    "    def to_quadratic_program(self) -> QuadraticProgram:\n",
    "        \"\"\"Convert a Max-k-cut problem instance into a\n",
    "        :class:`~qiskit_optimization.problems.QuadraticProgram`\n",
    "\n",
    "        Returns:\n",
    "            The :class:`~qiskit_optimization.problems.QuadraticProgram` created\n",
    "            from the Max-k-cut problem instance.\n",
    "        \"\"\"\n",
    "        for w, v in self._graph.edges:\n",
    "            self._graph.edges[w, v].setdefault(\"weight\", 1)\n",
    "\n",
    "        mdl = Model(name=\"Max-k-cut\")\n",
    "        n = self._graph.number_of_nodes()\n",
    "        k = self._subsets_num\n",
    "        x = {(v, i): mdl.binary_var(name=f\"x_{v}_{i}\") for v in range(n) for i in range(k)}\n",
    "        first_penalty = mdl.sum_squares((1 - mdl.sum(x[v, i] for i in range(k)) for v in range(n)))\n",
    "        second_penalty = mdl.sum(\n",
    "            mdl.sum(self._graph.edges[v, w][\"weight\"] * x[v, i] * x[w, i] for i in range(k))\n",
    "            for v, w in self._graph.edges\n",
    "        )\n",
    "        objective = first_penalty + second_penalty\n",
    "        mdl.minimize(objective)\n",
    "\n",
    "        op = from_docplex_mp(mdl)\n",
    "        return op\n",
    "\n",
    "    def interpret(self, result: Union[OptimizationResult, np.ndarray]) -> List[List[int]]:\n",
    "        \"\"\"Interpret a result as k lists of node indices\n",
    "\n",
    "        Args:\n",
    "            result : The calculated result of the problem\n",
    "\n",
    "        Returns:\n",
    "            k lists of node indices correspond to k node sets for the Max-k-cut\n",
    "        \"\"\"\n",
    "        x = self._result_to_x(result)\n",
    "        n = self._graph.number_of_nodes()\n",
    "        cut = [[] for i in range(self._subsets_num)]  # type: List[List[int]]\n",
    "\n",
    "        n_selected = x.reshape((n, self._subsets_num))\n",
    "        for i in range(n):\n",
    "            node_in_subset = np.where(n_selected[i] == 1)[0]  # one-hot encoding\n",
    "            if len(node_in_subset) != 0:\n",
    "                cut[node_in_subset[0]].append(i)\n",
    "\n",
    "        return cut\n",
    "\n",
    "    def _draw_result(\n",
    "        self,\n",
    "        result: Union[OptimizationResult, np.ndarray],\n",
    "        pos: Optional[Dict[int, np.ndarray]] = None,\n",
    "    ) -> None:\n",
    "        \"\"\"Draw the result with colors\n",
    "\n",
    "        Args:\n",
    "            result : The calculated result for the problem\n",
    "            pos: The positions of nodes\n",
    "        \"\"\"\n",
    "        x = self._result_to_x(result)\n",
    "        nx.draw(self._graph, node_color=self._node_color(x), pos=pos, with_labels=True)\n",
    "\n",
    "    def _node_color(\n",
    "        self, x: np.ndarray\n",
    "    ) -> Union[List[Tuple[float, float, float, float]], List[str]]:\n",
    "        # Return a list of colors for draw.\n",
    "\n",
    "        n = self._graph.number_of_nodes()\n",
    "\n",
    "        # k colors chosen (randomly or from cm.rainbow), or from given color list\n",
    "        colors = (\n",
    "            (\n",
    "                cm.rainbow(np.linspace(0, 1, self._subsets_num))\n",
    "            )\n",
    "            if self._colors is None\n",
    "            else self._colors\n",
    "        )\n",
    "        gray = to_rgba(\"lightgray\")\n",
    "        node_colors = [gray for _ in range(n)]\n",
    "\n",
    "        n_selected = x.reshape((n, self._subsets_num))\n",
    "        for i in range(n):\n",
    "            node_in_subset = np.where(n_selected[i] == 1)  # one-hot encoding\n",
    "            if len(node_in_subset[0]) != 0:\n",
    "                node_colors[i] = (\n",
    "                    to_rgba(colors[node_in_subset[0][0]])\n",
    "                )\n",
    "\n",
    "        return node_colors\n",
    "\n",
    "    @property\n",
    "    def k(self) -> int:\n",
    "        \"\"\"Getter of k\n",
    "\n",
    "        Returns:\n",
    "            The number of colors\n",
    "        \"\"\"\n",
    "        return self._subsets_num\n",
    "\n",
    "    @k.setter\n",
    "    def k(self, k: int) -> None:\n",
    "        \"\"\"Setter of k\n",
    "\n",
    "        Args:\n",
    "            k: The number of colors\n",
    "        \"\"\"\n",
    "        self._subsets_num = k\n",
    "        self._colors = self._colors if self._colors and len(self._colors) >= k else None\n",
    "\n",
    "    @property\n",
    "    def colors(self) -> Union[List[str], List[List[int]]]:\n",
    "        \"\"\"Getter of colors list\n",
    "\n",
    "        Returns:\n",
    "            The k size color list\n",
    "        \"\"\"\n",
    "        return self._colors\n",
    "\n",
    "    @colors.setter\n",
    "    def colors(self, colors: Union[List[str], List[List[int]]]) -> None:\n",
    "        \"\"\"Setter of colors list\n",
    "\n",
    "        Args:\n",
    "            colors: The k size color list\n",
    "        \"\"\"\n",
    "        self._colors = colors if colors and len(colors) >= self._subsets_num else None\n"
   ]
  },
  {
   "cell_type": "markdown",
   "id": "c29b226d",
   "metadata": {},
   "source": [
    "### General Description"
   ]
  },
  {
   "cell_type": "markdown",
   "id": "5d931c0e",
   "metadata": {},
   "source": [
    "The `Maxkcut` class receives in its constructor a `networkx` graph, or an `numpy.ndarray` or a `list` that defines the graph, and the second argument is the value of `k`, which indicates how many subgraphs are desired, optionally it accepts a list of colors that it will assign to each subgraph, so that when showing the graph it is evident how the cuts happened.\n",
    "\n",
    "```python\n",
    "max_k_cut = Maxkcut(graph, k, colors)\n",
    "```\n",
    "\n",
    "To solve the problem, as with the `Maxcut` class, it must be converted to a *Quadratic Program*, which will be used to send it to a solver (e.g. `NumPyMinimumEigensolver`, `QAOA`, or `VQE`).\n",
    "\n",
    "```python\n",
    "qp = max_k_cut.to_quadratic_program()\n",
    "result = MinimumEigenOptimizer(solver).solve(qp)\n",
    "```"
   ]
  },
  {
   "cell_type": "markdown",
   "id": "e1fed279",
   "metadata": {},
   "source": [
    "### Important methods"
   ]
  },
  {
   "cell_type": "markdown",
   "id": "084e1e9f",
   "metadata": {},
   "source": [
    "In the `to_quadratic_program` method, the instance of the Maxkcut class is converted to a `QuadraticProgram`, for this I use the equation for $f(x)$ from [Zsolt Tabi, et. al](https://doi.org/10.1109/QCE49297.2020.00018) (named as (1) in this notebook).\n",
    "\n",
    "The variable `first_penalty` contains the first term of said equation and $C=1$. While the `second_penalty` variable stores the second term, with $D=1$. The objective function is defined as the sum of both variables and since the problem posed for this equation is a *minimization*, this is how the model is created by doing `mdl.minimize(objective)`."
   ]
  },
  {
   "cell_type": "markdown",
   "id": "9f06cdf1",
   "metadata": {},
   "source": [
    "In the `interpret` method, the results are interpreted considering the *one-hot encoding* that includes the approach made by [Zsolt Tabi, et. al](https://doi.org/10.1109/QCE49297.2020.00018)."
   ]
  },
  {
   "cell_type": "markdown",
   "id": "d567234f",
   "metadata": {},
   "source": [
    "The `_draw_result` method calls the `_node_color` method and they are in charge of drawing the resulting graph, that is, with the corresponding colors that highlight the final subsets."
   ]
  },
  {
   "cell_type": "markdown",
   "id": "c9d9f7a1",
   "metadata": {},
   "source": [
    "<a id=\"quantum.mkcimpl.ex\"></a>\n",
    "## Max-k-cut Example"
   ]
  },
  {
   "cell_type": "code",
   "execution_count": 57,
   "id": "2a8b4cb5",
   "metadata": {},
   "outputs": [
    {
     "data": {
      "image/png": "[encoded data removed]",
      "text/plain": [
       "<Figure size 432x288 with 1 Axes>"
      ]
     },
     "metadata": {},
     "output_type": "display_data"
    }
   ],
   "source": [
    "# Generating a graph of 4 nodes\n",
    "n = 4\n",
    "k = 3\n",
    "G = nx.Graph()\n",
    "G.add_nodes_from(np.arange(0, n, 1))\n",
    "elist = [(0, 1, 5.0), (0, 2, 3.0), (0, 3, 6.0), (1, 2, 4.0), (2, 3, 2.0)]\n",
    "G.add_weighted_edges_from(elist)\n",
    "pos = nx.spring_layout(G)\n",
    "\n",
    "colors = [\"silver\" for node in G.nodes()]\n",
    "\n",
    "draw_graph(G, colors, pos)"
   ]
  },
  {
   "cell_type": "code",
   "execution_count": 53,
   "id": "03b02db6",
   "metadata": {},
   "outputs": [
    {
     "name": "stdout",
     "output_type": "stream",
     "text": [
      "\\ This file has been generated by DOcplex\n",
      "\\ ENCODING=ISO-8859-1\n",
      "\\Problem name: Max-k-cut\n",
      "\n",
      "Minimize\n",
      " obj: - 2 x_0_0 - 2 x_0_1 - 2 x_0_2 - 2 x_1_0 - 2 x_1_1 - 2 x_1_2 - 2 x_2_0\n",
      "      - 2 x_2_1 - 2 x_2_2 - 2 x_3_0 - 2 x_3_1 - 2 x_3_2 + [ 2 x_0_0^2\n",
      "      + 4 x_0_0*x_0_1 + 4 x_0_0*x_0_2 + 10 x_0_0*x_1_0 + 6 x_0_0*x_2_0\n",
      "      + 12 x_0_0*x_3_0 + 2 x_0_1^2 + 4 x_0_1*x_0_2 + 10 x_0_1*x_1_1\n",
      "      + 6 x_0_1*x_2_1 + 12 x_0_1*x_3_1 + 2 x_0_2^2 + 10 x_0_2*x_1_2\n",
      "      + 6 x_0_2*x_2_2 + 12 x_0_2*x_3_2 + 2 x_1_0^2 + 4 x_1_0*x_1_1\n",
      "      + 4 x_1_0*x_1_2 + 8 x_1_0*x_2_0 + 2 x_1_1^2 + 4 x_1_1*x_1_2\n",
      "      + 8 x_1_1*x_2_1 + 2 x_1_2^2 + 8 x_1_2*x_2_2 + 2 x_2_0^2 + 4 x_2_0*x_2_1\n",
      "      + 4 x_2_0*x_2_2 + 4 x_2_0*x_3_0 + 2 x_2_1^2 + 4 x_2_1*x_2_2\n",
      "      + 4 x_2_1*x_3_1 + 2 x_2_2^2 + 4 x_2_2*x_3_2 + 2 x_3_0^2 + 4 x_3_0*x_3_1\n",
      "      + 4 x_3_0*x_3_2 + 2 x_3_1^2 + 4 x_3_1*x_3_2 + 2 x_3_2^2 ]/2 + 4\n",
      "Subject To\n",
      "\n",
      "Bounds\n",
      " 0 <= x_0_0 <= 1\n",
      " 0 <= x_0_1 <= 1\n",
      " 0 <= x_0_2 <= 1\n",
      " 0 <= x_1_0 <= 1\n",
      " 0 <= x_1_1 <= 1\n",
      " 0 <= x_1_2 <= 1\n",
      " 0 <= x_2_0 <= 1\n",
      " 0 <= x_2_1 <= 1\n",
      " 0 <= x_2_2 <= 1\n",
      " 0 <= x_3_0 <= 1\n",
      " 0 <= x_3_1 <= 1\n",
      " 0 <= x_3_2 <= 1\n",
      "\n",
      "Binaries\n",
      " x_0_0 x_0_1 x_0_2 x_1_0 x_1_1 x_1_2 x_2_0 x_2_1 x_2_2 x_3_0 x_3_1 x_3_2\n",
      "End\n",
      "\n"
     ]
    }
   ],
   "source": [
    "colors=['skyblue', 'limegreen', 'salmon']\n",
    "\n",
    "max_k_cut = Maxkcut(G, k, colors)\n",
    "\n",
    "qp = max_k_cut.to_quadratic_program()\n",
    "\n",
    "print(qp.export_as_lp_string())"
   ]
  },
  {
   "cell_type": "markdown",
   "id": "35c297b0",
   "metadata": {},
   "source": [
    "<a id=\"quantum.solving.classic\"></a>\n",
    "### Solve with `NumPyMinimumEigensolver`"
   ]
  },
  {
   "cell_type": "code",
   "execution_count": 54,
   "id": "947d9951",
   "metadata": {},
   "outputs": [],
   "source": [
    "# NumPy solver\n",
    "exact_solver = NumPyMinimumEigensolver()"
   ]
  },
  {
   "cell_type": "code",
   "execution_count": 55,
   "id": "b6a58e54",
   "metadata": {},
   "outputs": [
    {
     "name": "stdout",
     "output_type": "stream",
     "text": [
      "optimal function value: 0.0\n",
      "optimal value: [0. 0. 1. 0. 1. 0. 1. 0. 0. 0. 1. 0.]\n",
      "status: SUCCESS\n",
      "[[2], [1, 3], [0]]\n"
     ]
    }
   ],
   "source": [
    "result = MinimumEigenOptimizer(exact_solver).solve(qp)\n",
    "print(result)\n",
    "print(max_k_cut.interpret(result=result))"
   ]
  },
  {
   "cell_type": "code",
   "execution_count": 56,
   "id": "c4d294cf",
   "metadata": {},
   "outputs": [
    {
     "data": {
      "image/png": "[encoded data removed]",
      "text/plain": [
       "<Figure size 432x288 with 1 Axes>"
      ]
     },
     "metadata": {},
     "output_type": "display_data"
    }
   ],
   "source": [
    "pos = nx.spring_layout(G)\n",
    "max_k_cut.draw(result=result, pos=pos)"
   ]
  },
  {
   "cell_type": "markdown",
   "id": "b18e23d3",
   "metadata": {},
   "source": [
    "<a id=\"quantum.solving.qaoa\"></a>\n",
    "### Solve with `QAOA`"
   ]
  },
  {
   "cell_type": "code",
   "execution_count": 58,
   "id": "cd26aed7",
   "metadata": {},
   "outputs": [],
   "source": [
    "# QAOA solver\n",
    "qaoa_solver = QAOA(reps=1, quantum_instance=quantum_instance)"
   ]
  },
  {
   "cell_type": "code",
   "execution_count": 61,
   "id": "bccd3c7c",
   "metadata": {},
   "outputs": [
    {
     "name": "stdout",
     "output_type": "stream",
     "text": [
      "optimal function value: 0.0\n",
      "optimal value: [0. 0. 1. 1. 0. 0. 0. 1. 0. 1. 0. 0.]\n",
      "status: SUCCESS\n",
      "[[1, 3], [2], [0]]\n"
     ]
    }
   ],
   "source": [
    "result = MinimumEigenOptimizer(qaoa_solver).solve(qp)\n",
    "print(result)\n",
    "print(max_k_cut.interpret(result=result))"
   ]
  },
  {
   "cell_type": "code",
   "execution_count": 60,
   "id": "08aed4e9",
   "metadata": {},
   "outputs": [
    {
     "data": {
      "image/png": "[encoded data removed]",
      "text/plain": [
       "<Figure size 432x288 with 1 Axes>"
      ]
     },
     "metadata": {},
     "output_type": "display_data"
    }
   ],
   "source": [
    "pos = nx.spring_layout(G)\n",
    "max_k_cut.draw(result=result, pos=pos)"
   ]
  },
  {
   "cell_type": "markdown",
   "id": "03e58022",
   "metadata": {},
   "source": [
    "<a id=\"quantum.solving.vqe\"></a>\n",
    "### Solve with `VQE`"
   ]
  },
  {
   "cell_type": "code",
   "execution_count": 63,
   "id": "9de60e4a",
   "metadata": {},
   "outputs": [],
   "source": [
    "spsa = SPSA(maxiter=300)\n",
    "ry = TwoLocal(qubitOp.num_qubits, \"ry\", \"cz\", reps=5, entanglement=\"linear\")\n",
    "vqe_solver = VQE(ry, optimizer=spsa, quantum_instance=quantum_instance)"
   ]
  },
  {
   "cell_type": "code",
   "execution_count": 64,
   "id": "596ba2bc",
   "metadata": {},
   "outputs": [
    {
     "name": "stdout",
     "output_type": "stream",
     "text": [
      "optimal function value: 0.0\n",
      "optimal value: [0. 1. 0. 1. 0. 0. 0. 0. 1. 1. 0. 0.]\n",
      "status: SUCCESS\n",
      "[[1, 3], [0], [2]]\n"
     ]
    }
   ],
   "source": [
    "result = MinimumEigenOptimizer(vqe_solver).solve(qp)\n",
    "print(result)\n",
    "print(max_k_cut.interpret(result=result))"
   ]
  },
  {
   "cell_type": "code",
   "execution_count": 65,
   "id": "3a7a43da",
   "metadata": {},
   "outputs": [
    {
     "data": {
      "image/png": "[encoded data removed]",
      "text/plain": [
       "<Figure size 432x288 with 1 Axes>"
      ]
     },
     "metadata": {},
     "output_type": "display_data"
    }
   ],
   "source": [
    "pos = nx.spring_layout(G)\n",
    "max_k_cut.draw(result=result, pos=pos)"
   ]
  },
  {
   "cell_type": "markdown",
   "id": "ded2075b",
   "metadata": {},
   "source": [
    "<a id=\"quantum.solving.bigger\"></a>\n",
    "### Bigger Example"
   ]
  },
  {
   "cell_type": "code",
   "execution_count": 86,
   "id": "554a3c91",
   "metadata": {},
   "outputs": [
    {
     "data": {
      "image/png": "[encoded data removed]",
      "text/plain": [
       "<Figure size 432x288 with 1 Axes>"
      ]
     },
     "metadata": {},
     "output_type": "display_data"
    }
   ],
   "source": [
    "# Generating a graph of 10 nodes\n",
    "n = 6\n",
    "k = 3\n",
    "G = nx.Graph()\n",
    "G.add_nodes_from(np.arange(0, n, 1))\n",
    "elist = [(0, 1, 5.0), (0, 2, 2.0), (0, 3, 2.0), (0, 5, 3.0), (1, 2, 2.0), \n",
    "         (1, 4, 2.0), (1, 5, 4.0), (2, 3, 1.0), (3, 4, 10.0), (3, 5, 5.0)]\n",
    "G.add_weighted_edges_from(elist)\n",
    "pos = nx.spring_layout(G)\n",
    "\n",
    "algorithm_globals.massive = True  # To be able to execute large graphs\n",
    "\n",
    "colors = [\"silver\" for node in G.nodes()]\n",
    "\n",
    "draw_graph(G, colors, pos)"
   ]
  },
  {
   "cell_type": "code",
   "execution_count": 87,
   "id": "fc89cd1c",
   "metadata": {},
   "outputs": [
    {
     "name": "stdout",
     "output_type": "stream",
     "text": [
      "\\ This file has been generated by DOcplex\n",
      "\\ ENCODING=ISO-8859-1\n",
      "\\Problem name: Max-k-cut\n",
      "\n",
      "Minimize\n",
      " obj: - 2 x_0_0 - 2 x_0_1 - 2 x_0_2 - 2 x_1_0 - 2 x_1_1 - 2 x_1_2 - 2 x_2_0\n",
      "      - 2 x_2_1 - 2 x_2_2 - 2 x_3_0 - 2 x_3_1 - 2 x_3_2 - 2 x_4_0 - 2 x_4_1\n",
      "      - 2 x_4_2 - 2 x_5_0 - 2 x_5_1 - 2 x_5_2 + [ 2 x_0_0^2 + 4 x_0_0*x_0_1\n",
      "      + 4 x_0_0*x_0_2 + 10 x_0_0*x_1_0 + 4 x_0_0*x_2_0 + 4 x_0_0*x_3_0\n",
      "      + 6 x_0_0*x_5_0 + 2 x_0_1^2 + 4 x_0_1*x_0_2 + 10 x_0_1*x_1_1\n",
      "      + 4 x_0_1*x_2_1 + 4 x_0_1*x_3_1 + 6 x_0_1*x_5_1 + 2 x_0_2^2\n",
      "      + 10 x_0_2*x_1_2 + 4 x_0_2*x_2_2 + 4 x_0_2*x_3_2 + 6 x_0_2*x_5_2\n",
      "      + 2 x_1_0^2 + 4 x_1_0*x_1_1 + 4 x_1_0*x_1_2 + 4 x_1_0*x_2_0\n",
      "      + 4 x_1_0*x_4_0 + 8 x_1_0*x_5_0 + 2 x_1_1^2 + 4 x_1_1*x_1_2\n",
      "      + 4 x_1_1*x_2_1 + 4 x_1_1*x_4_1 + 8 x_1_1*x_5_1 + 2 x_1_2^2\n",
      "      + 4 x_1_2*x_2_2 + 4 x_1_2*x_4_2 + 8 x_1_2*x_5_2 + 2 x_2_0^2\n",
      "      + 4 x_2_0*x_2_1 + 4 x_2_0*x_2_2 + 2 x_2_0*x_3_0 + 2 x_2_1^2\n",
      "      + 4 x_2_1*x_2_2 + 2 x_2_1*x_3_1 + 2 x_2_2^2 + 2 x_2_2*x_3_2 + 2 x_3_0^2\n",
      "      + 4 x_3_0*x_3_1 + 4 x_3_0*x_3_2 + 20 x_3_0*x_4_0 + 10 x_3_0*x_5_0\n",
      "      + 2 x_3_1^2 + 4 x_3_1*x_3_2 + 20 x_3_1*x_4_1 + 10 x_3_1*x_5_1 + 2 x_3_2^2\n",
      "      + 20 x_3_2*x_4_2 + 10 x_3_2*x_5_2 + 2 x_4_0^2 + 4 x_4_0*x_4_1\n",
      "      + 4 x_4_0*x_4_2 + 2 x_4_1^2 + 4 x_4_1*x_4_2 + 2 x_4_2^2 + 2 x_5_0^2\n",
      "      + 4 x_5_0*x_5_1 + 4 x_5_0*x_5_2 + 2 x_5_1^2 + 4 x_5_1*x_5_2 + 2 x_5_2^2\n",
      "      ]/2 + 6\n",
      "Subject To\n",
      "\n",
      "Bounds\n",
      " 0 <= x_0_0 <= 1\n",
      " 0 <= x_0_1 <= 1\n",
      " 0 <= x_0_2 <= 1\n",
      " 0 <= x_1_0 <= 1\n",
      " 0 <= x_1_1 <= 1\n",
      " 0 <= x_1_2 <= 1\n",
      " 0 <= x_2_0 <= 1\n",
      " 0 <= x_2_1 <= 1\n",
      " 0 <= x_2_2 <= 1\n",
      " 0 <= x_3_0 <= 1\n",
      " 0 <= x_3_1 <= 1\n",
      " 0 <= x_3_2 <= 1\n",
      " 0 <= x_4_0 <= 1\n",
      " 0 <= x_4_1 <= 1\n",
      " 0 <= x_4_2 <= 1\n",
      " 0 <= x_5_0 <= 1\n",
      " 0 <= x_5_1 <= 1\n",
      " 0 <= x_5_2 <= 1\n",
      "\n",
      "Binaries\n",
      " x_0_0 x_0_1 x_0_2 x_1_0 x_1_1 x_1_2 x_2_0 x_2_1 x_2_2 x_3_0 x_3_1 x_3_2 x_4_0\n",
      " x_4_1 x_4_2 x_5_0 x_5_1 x_5_2\n",
      "End\n",
      "\n"
     ]
    }
   ],
   "source": [
    "colors=['skyblue', 'limegreen', 'salmon']\n",
    "\n",
    "max_k_cut = Maxkcut(G, k, colors)\n",
    "\n",
    "qp = max_k_cut.to_quadratic_program()\n",
    "\n",
    "print(qp.export_as_lp_string())"
   ]
  },
  {
   "cell_type": "code",
   "execution_count": 88,
   "id": "24d596b4",
   "metadata": {},
   "outputs": [
    {
     "name": "stdout",
     "output_type": "stream",
     "text": [
      "optimal function value: 0.0\n",
      "optimal value: [0. 1. 0. 0. 0. 1. 1. 0. 0. 0. 0. 1. 1. 0. 0. 1. 0. 0.]\n",
      "status: SUCCESS\n",
      "[[2, 4, 5], [0], [1, 3]]\n"
     ]
    }
   ],
   "source": [
    "result = MinimumEigenOptimizer(exact_solver).solve(qp)\n",
    "print(result)\n",
    "print(max_k_cut.interpret(result=result))"
   ]
  },
  {
   "cell_type": "code",
   "execution_count": 89,
   "id": "46ebeafc",
   "metadata": {},
   "outputs": [
    {
     "data": {
      "image/png": "[encoded data removed]",
      "text/plain": [
       "<Figure size 432x288 with 1 Axes>"
      ]
     },
     "metadata": {},
     "output_type": "display_data"
    }
   ],
   "source": [
    "pos = nx.spring_layout(G)\n",
    "max_k_cut.draw(result=result, pos=pos)"
   ]
  },
  {
   "cell_type": "markdown",
   "id": "2ba1ff3a",
   "metadata": {},
   "source": [
    "<a id=\"apps\"></a>\n",
    "# Applications"
   ]
  },
  {
   "cell_type": "markdown",
   "id": "c3693fdf",
   "metadata": {},
   "source": [
    "Many industrial applications can be formulated as the max-k-cut problem, including:\n",
    "\n",
    "- VLSI layout design (very large-scale integration)\n",
    "  - F. Barahona, M. Grotschel, M. Jünger, and G. Reinelt. An application of combinatorial optimization to statistical physics and circuit layout design. Operations Research, 36(3):493–513, 1988.\n",
    "- Statistical physics\n",
    "  - F. Liers, M. Junger, G. Reinelt, and G. Rinaldi. Computing exact ground states of hard Ising spin glass problems by branch-and-cut. In New Optimization Algorithms in Physics, pages 47–69. Wiley-VCH Verlag GmbH & Co. KGaA, 2005\n",
    "- Wireless communication problems\n",
    "  - J. Fairbrother, A. N. Letchford, and K. Briggs. A two-level graph partitioning problem arising in mobile wireless communications. Computational Optimization and Applications, 69(3):653–676, 2018.\n",
    "  - C. Niu, Y. Li, R. Qingyang Hu, and F. Ye. Femtocell-enhanced multi-target spectrum allocation strategy in LTE-A HetNets. IET Communications, 11(6):887–896, 2017.\n"
   ]
  },
  {
   "cell_type": "markdown",
   "id": "b3ced989",
   "metadata": {},
   "source": [
    "<a id=\"conclusions\"></a>\n",
    "# Conclusions"
   ]
  },
  {
   "cell_type": "markdown",
   "id": "936d4726",
   "metadata": {},
   "source": [
    "- I have been able to implement a model that was not originally generated for the max-k-cut problem, but by finding the similarity with another type of optimization problem, it is that we can take advantage of the investigations that are carried out under different perspectives.\n",
    "- The next thing is to continue improving the implementation, in particular, what I have done here can surely be improved, for this, it is necessary to carry out many more tests and thus be able to correct possible bugs.\n",
    "- In addition to the applications mentioned above, there are many others, some that I can't even imagine at this time, the important thing is to generate solutions that allow people who face problems in their respective areas, to have alternatives to solve their problems.\n",
    "- The impact on society has not yet been seen directly, since we do not have conclusive proof of the advantages of solving optimization problems in quantum computers over classical computers. But in general, the optimization problems, including the max-k-cut problem, will always benefit us because they help us take advantage of the resources that we have at our disposal."
   ]
  },
  {
   "cell_type": "markdown",
   "id": "2b97e760",
   "metadata": {},
   "source": [
    "<a id=\"refs\"></a>\n",
    "# References"
   ]
  },
  {
   "cell_type": "markdown",
   "id": "fc0939de",
   "metadata": {},
   "source": [
    "- [Optimization problem](https://en.wikipedia.org/wiki/Optimization_problem). From Wikipedia, the free encyclopedia\n",
    "- [Max-Cut and Traveling Salesman Problem](https://qiskit.org/documentation/optimization/tutorials/06_examples_max_cut_and_tsp.html), Qiskit Docs, Optimization Tutorials\n",
    "- [Computational study of valid inequalities for the maximum k-cut problem](https://link.springer.com/article/10.1007/s10479-017-2448-9), Rodrigues de Sousa, V.J., Anjos, M.F. & Le Digabel, S. Ann Oper Res 265, 5–27 (2018). https://doi.org/10.1007/s10479-017-2448-9\n",
    "- [Quantum Optimization for the Graph Coloring Problem with Space-Efficient Embedding](https://ieeexplore.ieee.org/document/9259934). Z. Tabi et al., 2020 IEEE International Conference on Quantum Computing and Engineering (QCE), 2020, pp. 56-62, https://doi.org/10.1109/QCE49297.2020.00018\n",
    "- [Graph coloring](https://en.wikipedia.org/wiki/Graph_coloring). From Wikipedia, the free encyclopedia\n",
    "- [The maximum k-colorable subgraph problem and related problems](https://arxiv.org/pdf/2001.09644.pdf), O. Kuryatnikova, R. Sotirov, J. C. Vera. https://doi.org/10.48550/arXiv.2001.09644\n",
    "- [On Approximate Graph Colouring and MAX-k-CUT Algorithms Based on the θ-Function](https://link.springer.com/article/10.1023/B:JOCO.0000038911.67280.3f), E. de Klerk, D.V. Pasechnik & J.P. Warners. Journal of Combinatorial Optimization 8, 267–294 (2004), https://doi.org/10.1023/B:JOCO.0000038911.67280.3f\n",
    "- [Improving the linear relaxation of maximum k-cut with semidefinite-based constraints](https://link.springer.com/article/10.1007/s13675-019-00110-y), Rodrigues de Sousa, V.J., Anjos, M.F. & Le Digabel, S. EURO J Comput Optim 7, 123–151 (2019). https://doi.org/10.1007/s13675-019-00110-y"
   ]
  },
  {
   "cell_type": "code",
   "execution_count": null,
   "id": "4b6aa70c",
   "metadata": {},
   "outputs": [],
   "source": []
  }
 ],
 "metadata": {
  "kernelspec": {
   "display_name": "Python 3 (ipykernel)",
   "language": "python",
   "name": "python3"
  },
  "language_info": {
   "codemirror_mode": {
    "name": "ipython",
    "version": 3
   },
   "file_extension": ".py",
   "mimetype": "text/x-python",
   "name": "python",
   "nbconvert_exporter": "python",
   "pygments_lexer": "ipython3",
   "version": "3.9.12"
  }
 },
 "nbformat": 4,
 "nbformat_minor": 5
}
